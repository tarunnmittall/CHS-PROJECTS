{
  "nbformat": 4,
  "nbformat_minor": 0,
  "metadata": {
    "colab": {
      "provenance": []
    },
    "kernelspec": {
      "name": "python3",
      "display_name": "Python 3"
    },
    "language_info": {
      "name": "python"
    }
  },
  "cells": [
    {
      "cell_type": "code",
      "execution_count": null,
      "metadata": {
        "colab": {
          "base_uri": "https://localhost:8080/"
        },
        "id": "4mu4uLwTahk8",
        "outputId": "f120d4c4-a82f-4ba2-aa7b-407715561411"
      },
      "outputs": [
        {
          "output_type": "stream",
          "name": "stdout",
          "text": [
            "Collecting pyspark\n",
            "  Downloading pyspark-3.5.1.tar.gz (317.0 MB)\n",
            "\u001b[2K     \u001b[90m━━━━━━━━━━━━━━━━━━━━━━━━━━━━━━━━━━━━━━━━\u001b[0m \u001b[32m317.0/317.0 MB\u001b[0m \u001b[31m3.4 MB/s\u001b[0m eta \u001b[36m0:00:00\u001b[0m\n",
            "\u001b[?25h  Preparing metadata (setup.py) ... \u001b[?25l\u001b[?25hdone\n",
            "Requirement already satisfied: py4j==0.10.9.7 in /usr/local/lib/python3.10/dist-packages (from pyspark) (0.10.9.7)\n",
            "Building wheels for collected packages: pyspark\n",
            "  Building wheel for pyspark (setup.py) ... \u001b[?25l\u001b[?25hdone\n",
            "  Created wheel for pyspark: filename=pyspark-3.5.1-py2.py3-none-any.whl size=317488493 sha256=8208b81c12993775158e469cc0cd360d5b6101d1cbf0440993ceb2dcfc9fd337\n",
            "  Stored in directory: /root/.cache/pip/wheels/80/1d/60/2c256ed38dddce2fdd93be545214a63e02fbd8d74fb0b7f3a6\n",
            "Successfully built pyspark\n",
            "Installing collected packages: pyspark\n",
            "Successfully installed pyspark-3.5.1\n"
          ]
        }
      ],
      "source": [
        "pip install pyspark"
      ]
    },
    {
      "cell_type": "code",
      "source": [
        "import pyspark"
      ],
      "metadata": {
        "id": "0XAnAViharEN"
      },
      "execution_count": null,
      "outputs": []
    },
    {
      "cell_type": "code",
      "source": [
        "from pyspark.sql import SparkSession"
      ],
      "metadata": {
        "id": "1kkVI5XubFo9"
      },
      "execution_count": null,
      "outputs": []
    },
    {
      "cell_type": "code",
      "source": [
        "spark=SparkSession.builder.appName('Practise').getOrCreate()"
      ],
      "metadata": {
        "id": "gpua39u5bLGx"
      },
      "execution_count": null,
      "outputs": []
    },
    {
      "cell_type": "code",
      "source": [
        "spark\n"
      ],
      "metadata": {
        "colab": {
          "base_uri": "https://localhost:8080/",
          "height": 219
        },
        "id": "luWO2PNxbN43",
        "outputId": "f00cd1df-dd28-4b16-8b1a-7cf3536091ee"
      },
      "execution_count": null,
      "outputs": [
        {
          "output_type": "execute_result",
          "data": {
            "text/plain": [
              "<pyspark.sql.session.SparkSession at 0x78c49ad0e050>"
            ],
            "text/html": [
              "\n",
              "            <div>\n",
              "                <p><b>SparkSession - in-memory</b></p>\n",
              "                \n",
              "        <div>\n",
              "            <p><b>SparkContext</b></p>\n",
              "\n",
              "            <p><a href=\"http://31abb8808b9d:4040\">Spark UI</a></p>\n",
              "\n",
              "            <dl>\n",
              "              <dt>Version</dt>\n",
              "                <dd><code>v3.5.1</code></dd>\n",
              "              <dt>Master</dt>\n",
              "                <dd><code>local[*]</code></dd>\n",
              "              <dt>AppName</dt>\n",
              "                <dd><code>Practise</code></dd>\n",
              "            </dl>\n",
              "        </div>\n",
              "        \n",
              "            </div>\n",
              "        "
            ]
          },
          "metadata": {},
          "execution_count": 6
        }
      ]
    },
    {
      "cell_type": "code",
      "source": [
        "df_pyspark=spark.read.csv('1000 Sales Records.csv',header=True,inferSchema=True)"
      ],
      "metadata": {
        "id": "ihl8f4LQbT6g"
      },
      "execution_count": null,
      "outputs": []
    },
    {
      "cell_type": "code",
      "source": [
        "df_pyspark"
      ],
      "metadata": {
        "colab": {
          "base_uri": "https://localhost:8080/"
        },
        "id": "_IhFlSbAbX5i",
        "outputId": "21865f5d-88a3-460b-d929-a92c8094a9d7"
      },
      "execution_count": null,
      "outputs": [
        {
          "output_type": "execute_result",
          "data": {
            "text/plain": [
              "DataFrame[Region: string, Country: string, Item Type: string, Sales Channel: string, Order Priority: string, Order Date: string, Order ID: int, Ship Date: string, Units Sold: int, Unit Price: double, Unit Cost: double, Total Revenue: double, Total Cost: double, Total Profit: double]"
            ]
          },
          "metadata": {},
          "execution_count": 8
        }
      ]
    },
    {
      "cell_type": "code",
      "source": [
        "df_pyspark.show()"
      ],
      "metadata": {
        "colab": {
          "base_uri": "https://localhost:8080/"
        },
        "id": "nlfNSOGpbc3D",
        "outputId": "005af69e-aef7-4529-9b6d-36a5b85b48ee"
      },
      "execution_count": null,
      "outputs": [
        {
          "output_type": "stream",
          "name": "stdout",
          "text": [
            "+--------------------+----------+---------------+-------------+--------------+----------+---------+----------+----------+----------+---------+-------------+----------+------------+\n",
            "|              Region|   Country|      Item Type|Sales Channel|Order Priority|Order Date| Order ID| Ship Date|Units Sold|Unit Price|Unit Cost|Total Revenue|Total Cost|Total Profit|\n",
            "+--------------------+----------+---------------+-------------+--------------+----------+---------+----------+----------+----------+---------+-------------+----------+------------+\n",
            "|Middle East and N...|      NULL|      Cosmetics|      Offline|             M|10/18/2014|686800706|10/31/2014|      8446|     437.2|   263.33|    3692591.2|2224085.18|  1468506.02|\n",
            "|       North America|    Canada|     Vegetables|       Online|             M| 11/7/2011|185941302| 12/8/2011|      NULL|    154.06|    90.93|         NULL| 274426.74|   190526.34|\n",
            "|Middle East and N...|     Libya|      Baby Food|      Offline|             C|10/31/2016|246222341| 12/9/2016|      1517|      NULL|   159.42|    387259.76|      NULL|   145419.62|\n",
            "|                Asia|     Japan|         Cereal|      Offline|             C| 4/10/2010|161442649| 5/12/2010|      3322|     205.7|     NULL|     683335.4| 389039.42|   294295.98|\n",
            "|  Sub-Saharan Africa|      Chad|         Fruits|      Offline|             H| 8/16/2011|645713555| 8/31/2011|      9845|      9.33|     6.92|     91853.85|      NULL|    23726.45|\n",
            "|              Europe|   Armenia|         Cereal|       Online|             H|11/24/2014|683458888|12/28/2014|      9528|     205.7|   117.11|         NULL|      NULL|   844085.52|\n",
            "|  Sub-Saharan Africa|   Eritrea|         Cereal|       Online|             H|  3/4/2015|679414975| 4/17/2015|      2844|      NULL|   117.11|     585010.8| 333060.84|   251949.96|\n",
            "|              Europe|Montenegro|        Clothes|      Offline|             M| 5/17/2012|208630645| 6/28/2012|      7299|      NULL|    35.84|    797634.72| 261596.16|   536038.56|\n",
            "|Central America a...|      NULL|     Vegetables|       Online|             H| 1/29/2015|266467225|  3/7/2015|      2428|    154.06|    90.93|         NULL| 220778.04|   153279.64|\n",
            "|Australia and Oce...|      Fiji|     Vegetables|      Offline|             H|12/24/2013|118598544| 1/19/2014|      4800|      NULL|    90.93|     739488.0|  436464.0|    303024.0|\n",
            "|  Sub-Saharan Africa|      NULL|        Clothes|       Online|             M|12/29/2015|451010930| 1/19/2016|      3012|    109.28|     NULL|         NULL| 107950.08|   221201.28|\n",
            "|              Europe|Montenegro|         Snacks|      Offline|             M| 2/27/2010|220003211| 3/18/2010|      2694|    152.58|     NULL|         NULL| 262503.36|   148547.16|\n",
            "|              Europe|      NULL|      Household|       Online|             C|11/17/2016|702186715|12/22/2016|      1508|    668.27|     NULL|   1007751.16|      NULL|   249920.84|\n",
            "|  Sub-Saharan Africa|     Sudan|      Cosmetics|       Online|             C|12/20/2015|544485270|  1/5/2016|      4146|     437.2|   263.33|    1812631.2|1091766.18|   720865.02|\n",
            "|                Asia|  Maldives|         Fruits|      Offline|             L|  1/8/2011|714135205|  2/6/2011|      7332|      NULL|     6.92|     68407.56|  50737.44|    17670.12|\n",
            "|              Europe|Montenegro|        Clothes|      Offline|             H| 6/28/2010|448685348| 7/22/2010|      4820|      NULL|     NULL|         NULL|  172748.8|    353980.8|\n",
            "|              Europe|      NULL|Office Supplies|       Online|             H| 4/25/2016|405997025| 5/12/2016|      2397|    651.21|   524.96|   1560950.37|1258329.12|   302621.25|\n",
            "|       North America| Greenland|      Beverages|       Online|             M| 7/27/2012|414244067|  8/7/2012|      2880|     47.45|    31.79|     136656.0|   91555.2|     45100.8|\n",
            "|  Sub-Saharan Africa|Cape Verde|        Clothes|       Online|             C|  9/8/2014|821912801| 10/3/2014|      NULL|    109.28|    35.84|         NULL|  40033.28|    82032.48|\n",
            "|  Sub-Saharan Africa|   Senegal|      Household|      Offline|             L| 8/27/2012|247802054|  9/8/2012|      8989|    668.27|   502.54|   6007079.03|4517332.06|  1489746.97|\n",
            "+--------------------+----------+---------------+-------------+--------------+----------+---------+----------+----------+----------+---------+-------------+----------+------------+\n",
            "only showing top 20 rows\n",
            "\n"
          ]
        }
      ]
    },
    {
      "cell_type": "code",
      "source": [
        "df_pyspark.head(3)"
      ],
      "metadata": {
        "colab": {
          "base_uri": "https://localhost:8080/"
        },
        "id": "2Vpkc-sObgJB",
        "outputId": "4fd47301-5019-46aa-bb8d-11ed343c2052"
      },
      "execution_count": null,
      "outputs": [
        {
          "output_type": "execute_result",
          "data": {
            "text/plain": [
              "[Row(Region='Middle East and North Africa', Country=None, Item Type='Cosmetics', Sales Channel='Offline', Order Priority='M', Order Date='10/18/2014', Order ID=686800706, Ship Date='10/31/2014', Units Sold=8446, Unit Price=437.2, Unit Cost=263.33, Total Revenue=3692591.2, Total Cost=2224085.18, Total Profit=1468506.02),\n",
              " Row(Region='North America', Country='Canada', Item Type='Vegetables', Sales Channel='Online', Order Priority='M', Order Date='11/7/2011', Order ID=185941302, Ship Date='12/8/2011', Units Sold=None, Unit Price=154.06, Unit Cost=90.93, Total Revenue=None, Total Cost=274426.74, Total Profit=190526.34),\n",
              " Row(Region='Middle East and North Africa', Country='Libya', Item Type='Baby Food', Sales Channel='Offline', Order Priority='C', Order Date='10/31/2016', Order ID=246222341, Ship Date='12/9/2016', Units Sold=1517, Unit Price=None, Unit Cost=159.42, Total Revenue=387259.76, Total Cost=None, Total Profit=145419.62)]"
            ]
          },
          "metadata": {},
          "execution_count": 10
        }
      ]
    },
    {
      "cell_type": "code",
      "source": [
        "df_pyspark=df_pyspark.drop('Ship Date')"
      ],
      "metadata": {
        "id": "0FUdC5iUbk1Y"
      },
      "execution_count": null,
      "outputs": []
    },
    {
      "cell_type": "code",
      "source": [
        "df_pyspark"
      ],
      "metadata": {
        "colab": {
          "base_uri": "https://localhost:8080/"
        },
        "id": "2DiQu1zAbpOz",
        "outputId": "9d95538a-a1a0-4eda-eabb-a2e8c648722b"
      },
      "execution_count": null,
      "outputs": [
        {
          "output_type": "execute_result",
          "data": {
            "text/plain": [
              "DataFrame[Region: string, Country: string, Item Type: string, Sales Channel: string, Order Priority: string, Order Date: string, Order ID: int, Units Sold: int, Unit Price: double, Unit Cost: double, Total Revenue: double, Total Cost: double, Total Profit: double]"
            ]
          },
          "metadata": {},
          "execution_count": 12
        }
      ]
    },
    {
      "cell_type": "code",
      "source": [
        "df_pyspark.show()"
      ],
      "metadata": {
        "colab": {
          "base_uri": "https://localhost:8080/"
        },
        "id": "tQtYDOlQbs2b",
        "outputId": "7f4be499-4aed-4889-9db5-cf3806e5734e"
      },
      "execution_count": null,
      "outputs": [
        {
          "output_type": "stream",
          "name": "stdout",
          "text": [
            "+--------------------+----------+---------------+-------------+--------------+----------+---------+----------+----------+---------+-------------+----------+------------+\n",
            "|              Region|   Country|      Item Type|Sales Channel|Order Priority|Order Date| Order ID|Units Sold|Unit Price|Unit Cost|Total Revenue|Total Cost|Total Profit|\n",
            "+--------------------+----------+---------------+-------------+--------------+----------+---------+----------+----------+---------+-------------+----------+------------+\n",
            "|Middle East and N...|      NULL|      Cosmetics|      Offline|             M|10/18/2014|686800706|      8446|     437.2|   263.33|    3692591.2|2224085.18|  1468506.02|\n",
            "|       North America|    Canada|     Vegetables|       Online|             M| 11/7/2011|185941302|      NULL|    154.06|    90.93|         NULL| 274426.74|   190526.34|\n",
            "|Middle East and N...|     Libya|      Baby Food|      Offline|             C|10/31/2016|246222341|      1517|      NULL|   159.42|    387259.76|      NULL|   145419.62|\n",
            "|                Asia|     Japan|         Cereal|      Offline|             C| 4/10/2010|161442649|      3322|     205.7|     NULL|     683335.4| 389039.42|   294295.98|\n",
            "|  Sub-Saharan Africa|      Chad|         Fruits|      Offline|             H| 8/16/2011|645713555|      9845|      9.33|     6.92|     91853.85|      NULL|    23726.45|\n",
            "|              Europe|   Armenia|         Cereal|       Online|             H|11/24/2014|683458888|      9528|     205.7|   117.11|         NULL|      NULL|   844085.52|\n",
            "|  Sub-Saharan Africa|   Eritrea|         Cereal|       Online|             H|  3/4/2015|679414975|      2844|      NULL|   117.11|     585010.8| 333060.84|   251949.96|\n",
            "|              Europe|Montenegro|        Clothes|      Offline|             M| 5/17/2012|208630645|      7299|      NULL|    35.84|    797634.72| 261596.16|   536038.56|\n",
            "|Central America a...|      NULL|     Vegetables|       Online|             H| 1/29/2015|266467225|      2428|    154.06|    90.93|         NULL| 220778.04|   153279.64|\n",
            "|Australia and Oce...|      Fiji|     Vegetables|      Offline|             H|12/24/2013|118598544|      4800|      NULL|    90.93|     739488.0|  436464.0|    303024.0|\n",
            "|  Sub-Saharan Africa|      NULL|        Clothes|       Online|             M|12/29/2015|451010930|      3012|    109.28|     NULL|         NULL| 107950.08|   221201.28|\n",
            "|              Europe|Montenegro|         Snacks|      Offline|             M| 2/27/2010|220003211|      2694|    152.58|     NULL|         NULL| 262503.36|   148547.16|\n",
            "|              Europe|      NULL|      Household|       Online|             C|11/17/2016|702186715|      1508|    668.27|     NULL|   1007751.16|      NULL|   249920.84|\n",
            "|  Sub-Saharan Africa|     Sudan|      Cosmetics|       Online|             C|12/20/2015|544485270|      4146|     437.2|   263.33|    1812631.2|1091766.18|   720865.02|\n",
            "|                Asia|  Maldives|         Fruits|      Offline|             L|  1/8/2011|714135205|      7332|      NULL|     6.92|     68407.56|  50737.44|    17670.12|\n",
            "|              Europe|Montenegro|        Clothes|      Offline|             H| 6/28/2010|448685348|      4820|      NULL|     NULL|         NULL|  172748.8|    353980.8|\n",
            "|              Europe|      NULL|Office Supplies|       Online|             H| 4/25/2016|405997025|      2397|    651.21|   524.96|   1560950.37|1258329.12|   302621.25|\n",
            "|       North America| Greenland|      Beverages|       Online|             M| 7/27/2012|414244067|      2880|     47.45|    31.79|     136656.0|   91555.2|     45100.8|\n",
            "|  Sub-Saharan Africa|Cape Verde|        Clothes|       Online|             C|  9/8/2014|821912801|      NULL|    109.28|    35.84|         NULL|  40033.28|    82032.48|\n",
            "|  Sub-Saharan Africa|   Senegal|      Household|      Offline|             L| 8/27/2012|247802054|      8989|    668.27|   502.54|   6007079.03|4517332.06|  1489746.97|\n",
            "+--------------------+----------+---------------+-------------+--------------+----------+---------+----------+----------+---------+-------------+----------+------------+\n",
            "only showing top 20 rows\n",
            "\n"
          ]
        }
      ]
    },
    {
      "cell_type": "code",
      "source": [
        "df_pyspark=df_pyspark.na.drop(how=\"any\",subset=['Country'])"
      ],
      "metadata": {
        "id": "BrkE2XKQbvSr"
      },
      "execution_count": null,
      "outputs": []
    },
    {
      "cell_type": "code",
      "source": [
        "df_pyspark.show()"
      ],
      "metadata": {
        "colab": {
          "base_uri": "https://localhost:8080/"
        },
        "id": "mks2VAIebyoh",
        "outputId": "5c65f16b-14de-4d48-8025-6e345181d765"
      },
      "execution_count": null,
      "outputs": [
        {
          "output_type": "stream",
          "name": "stdout",
          "text": [
            "+--------------------+--------------------+----------+-------------+--------------+----------+---------+----------+----------+---------+-------------+----------+------------+\n",
            "|              Region|             Country| Item Type|Sales Channel|Order Priority|Order Date| Order ID|Units Sold|Unit Price|Unit Cost|Total Revenue|Total Cost|Total Profit|\n",
            "+--------------------+--------------------+----------+-------------+--------------+----------+---------+----------+----------+---------+-------------+----------+------------+\n",
            "|       North America|              Canada|Vegetables|       Online|             M| 11/7/2011|185941302|      NULL|    154.06|    90.93|         NULL| 274426.74|   190526.34|\n",
            "|Middle East and N...|               Libya| Baby Food|      Offline|             C|10/31/2016|246222341|      1517|      NULL|   159.42|    387259.76|      NULL|   145419.62|\n",
            "|                Asia|               Japan|    Cereal|      Offline|             C| 4/10/2010|161442649|      3322|     205.7|     NULL|     683335.4| 389039.42|   294295.98|\n",
            "|  Sub-Saharan Africa|                Chad|    Fruits|      Offline|             H| 8/16/2011|645713555|      9845|      9.33|     6.92|     91853.85|      NULL|    23726.45|\n",
            "|              Europe|             Armenia|    Cereal|       Online|             H|11/24/2014|683458888|      9528|     205.7|   117.11|         NULL|      NULL|   844085.52|\n",
            "|  Sub-Saharan Africa|             Eritrea|    Cereal|       Online|             H|  3/4/2015|679414975|      2844|      NULL|   117.11|     585010.8| 333060.84|   251949.96|\n",
            "|              Europe|          Montenegro|   Clothes|      Offline|             M| 5/17/2012|208630645|      7299|      NULL|    35.84|    797634.72| 261596.16|   536038.56|\n",
            "|Australia and Oce...|                Fiji|Vegetables|      Offline|             H|12/24/2013|118598544|      4800|      NULL|    90.93|     739488.0|  436464.0|    303024.0|\n",
            "|              Europe|          Montenegro|    Snacks|      Offline|             M| 2/27/2010|220003211|      2694|    152.58|     NULL|         NULL| 262503.36|   148547.16|\n",
            "|  Sub-Saharan Africa|               Sudan| Cosmetics|       Online|             C|12/20/2015|544485270|      4146|     437.2|   263.33|    1812631.2|1091766.18|   720865.02|\n",
            "|                Asia|            Maldives|    Fruits|      Offline|             L|  1/8/2011|714135205|      7332|      NULL|     6.92|     68407.56|  50737.44|    17670.12|\n",
            "|              Europe|          Montenegro|   Clothes|      Offline|             H| 6/28/2010|448685348|      4820|      NULL|     NULL|         NULL|  172748.8|    353980.8|\n",
            "|       North America|           Greenland| Beverages|       Online|             M| 7/27/2012|414244067|      2880|     47.45|    31.79|     136656.0|   91555.2|     45100.8|\n",
            "|  Sub-Saharan Africa|          Cape Verde|   Clothes|       Online|             C|  9/8/2014|821912801|      NULL|    109.28|    35.84|         NULL|  40033.28|    82032.48|\n",
            "|  Sub-Saharan Africa|             Senegal| Household|      Offline|             L| 8/27/2012|247802054|      8989|    668.27|   502.54|   6007079.03|4517332.06|  1489746.97|\n",
            "|Australia and Oce...|Federated States ...|    Snacks|       Online|             C|  9/3/2012|531023156|       407|    152.58|    97.44|     62100.06|  39658.08|    22441.98|\n",
            "|                Asia|            Mongolia|   Clothes|       Online|             L|12/12/2015|770478332|       515|    109.28|    35.84|      56279.2|      NULL|     37821.6|\n",
            "|Central America a...|             Grenada|    Cereal|       Online|             H|10/28/2012|430390107|       852|     205.7|   117.11|     175256.4|      NULL|    75478.68|\n",
            "|  Sub-Saharan Africa|             Senegal| Beverages|      Offline|             M|10/22/2014|683927953|      NULL|     47.45|     NULL|     395448.3|      NULL|   130510.44|\n",
            "|       North America|           Greenland|    Fruits|      Offline|             M| 1/31/2012|469839179|      4709|      NULL|     6.92|     43934.97|  32586.28|    11348.69|\n",
            "+--------------------+--------------------+----------+-------------+--------------+----------+---------+----------+----------+---------+-------------+----------+------------+\n",
            "only showing top 20 rows\n",
            "\n"
          ]
        }
      ]
    },
    {
      "cell_type": "code",
      "source": [
        "from pyspark.ml.feature import Imputer\n",
        "\n",
        "imputer = Imputer(\n",
        "    inputCols=['Units Sold','Unit Price', 'Unit Cost', 'Total Revenue','Total Cost'],\n",
        "    outputCols=[\"{}_imputed\".format(c) for c in ['Units Sold','Unit Price', 'Unit Cost', 'Total Revenue','Total Cost']]\n",
        "    ).setStrategy(\"median\")"
      ],
      "metadata": {
        "id": "SvOA06PMb1VX"
      },
      "execution_count": null,
      "outputs": []
    },
    {
      "cell_type": "code",
      "source": [
        "imputer.fit(df_pyspark).transform(df_pyspark).show()"
      ],
      "metadata": {
        "colab": {
          "base_uri": "https://localhost:8080/"
        },
        "id": "LcAk4NGdb5AL",
        "outputId": "aa6ff342-a08a-4a27-fca2-930a37e9c2b7"
      },
      "execution_count": null,
      "outputs": [
        {
          "output_type": "stream",
          "name": "stdout",
          "text": [
            "+--------------------+--------------------+----------+-------------+--------------+----------+---------+----------+----------+---------+-------------+----------+------------+------------------+------------------+-----------------+---------------------+------------------+\n",
            "|              Region|             Country| Item Type|Sales Channel|Order Priority|Order Date| Order ID|Units Sold|Unit Price|Unit Cost|Total Revenue|Total Cost|Total Profit|Units Sold_imputed|Unit Price_imputed|Unit Cost_imputed|Total Revenue_imputed|Total Cost_imputed|\n",
            "+--------------------+--------------------+----------+-------------+--------------+----------+---------+----------+----------+---------+-------------+----------+------------+------------------+------------------+-----------------+---------------------+------------------+\n",
            "|       North America|              Canada|Vegetables|       Online|             M| 11/7/2011|185941302|      NULL|    154.06|    90.93|         NULL| 274426.74|   190526.34|              5006|            154.06|            90.93|             785706.0|         274426.74|\n",
            "|Middle East and N...|               Libya| Baby Food|      Offline|             C|10/31/2016|246222341|      1517|      NULL|   159.42|    387259.76|      NULL|   145419.62|              1517|            154.06|           159.42|            387259.76|         448429.71|\n",
            "|                Asia|               Japan|    Cereal|      Offline|             C| 4/10/2010|161442649|      3322|     205.7|     NULL|     683335.4| 389039.42|   294295.98|              3322|             205.7|            97.44|             683335.4|         389039.42|\n",
            "|  Sub-Saharan Africa|                Chad|    Fruits|      Offline|             H| 8/16/2011|645713555|      9845|      9.33|     6.92|     91853.85|      NULL|    23726.45|              9845|              9.33|             6.92|             91853.85|         448429.71|\n",
            "|              Europe|             Armenia|    Cereal|       Online|             H|11/24/2014|683458888|      9528|     205.7|   117.11|         NULL|      NULL|   844085.52|              9528|             205.7|           117.11|             785706.0|         448429.71|\n",
            "|  Sub-Saharan Africa|             Eritrea|    Cereal|       Online|             H|  3/4/2015|679414975|      2844|      NULL|   117.11|     585010.8| 333060.84|   251949.96|              2844|            154.06|           117.11|             585010.8|         333060.84|\n",
            "|              Europe|          Montenegro|   Clothes|      Offline|             M| 5/17/2012|208630645|      7299|      NULL|    35.84|    797634.72| 261596.16|   536038.56|              7299|            154.06|            35.84|            797634.72|         261596.16|\n",
            "|Australia and Oce...|                Fiji|Vegetables|      Offline|             H|12/24/2013|118598544|      4800|      NULL|    90.93|     739488.0|  436464.0|    303024.0|              4800|            154.06|            90.93|             739488.0|          436464.0|\n",
            "|              Europe|          Montenegro|    Snacks|      Offline|             M| 2/27/2010|220003211|      2694|    152.58|     NULL|         NULL| 262503.36|   148547.16|              2694|            152.58|            97.44|             785706.0|         262503.36|\n",
            "|  Sub-Saharan Africa|               Sudan| Cosmetics|       Online|             C|12/20/2015|544485270|      4146|     437.2|   263.33|    1812631.2|1091766.18|   720865.02|              4146|             437.2|           263.33|            1812631.2|        1091766.18|\n",
            "|                Asia|            Maldives|    Fruits|      Offline|             L|  1/8/2011|714135205|      7332|      NULL|     6.92|     68407.56|  50737.44|    17670.12|              7332|            154.06|             6.92|             68407.56|          50737.44|\n",
            "|              Europe|          Montenegro|   Clothes|      Offline|             H| 6/28/2010|448685348|      4820|      NULL|     NULL|         NULL|  172748.8|    353980.8|              4820|            154.06|            97.44|             785706.0|          172748.8|\n",
            "|       North America|           Greenland| Beverages|       Online|             M| 7/27/2012|414244067|      2880|     47.45|    31.79|     136656.0|   91555.2|     45100.8|              2880|             47.45|            31.79|             136656.0|           91555.2|\n",
            "|  Sub-Saharan Africa|          Cape Verde|   Clothes|       Online|             C|  9/8/2014|821912801|      NULL|    109.28|    35.84|         NULL|  40033.28|    82032.48|              5006|            109.28|            35.84|             785706.0|          40033.28|\n",
            "|  Sub-Saharan Africa|             Senegal| Household|      Offline|             L| 8/27/2012|247802054|      8989|    668.27|   502.54|   6007079.03|4517332.06|  1489746.97|              8989|            668.27|           502.54|           6007079.03|        4517332.06|\n",
            "|Australia and Oce...|Federated States ...|    Snacks|       Online|             C|  9/3/2012|531023156|       407|    152.58|    97.44|     62100.06|  39658.08|    22441.98|               407|            152.58|            97.44|             62100.06|          39658.08|\n",
            "|                Asia|            Mongolia|   Clothes|       Online|             L|12/12/2015|770478332|       515|    109.28|    35.84|      56279.2|      NULL|     37821.6|               515|            109.28|            35.84|              56279.2|         448429.71|\n",
            "|Central America a...|             Grenada|    Cereal|       Online|             H|10/28/2012|430390107|       852|     205.7|   117.11|     175256.4|      NULL|    75478.68|               852|             205.7|           117.11|             175256.4|         448429.71|\n",
            "|  Sub-Saharan Africa|             Senegal| Beverages|      Offline|             M|10/22/2014|683927953|      NULL|     47.45|     NULL|     395448.3|      NULL|   130510.44|              5006|             47.45|            97.44|             395448.3|         448429.71|\n",
            "|       North America|           Greenland|    Fruits|      Offline|             M| 1/31/2012|469839179|      4709|      NULL|     6.92|     43934.97|  32586.28|    11348.69|              4709|            154.06|             6.92|             43934.97|          32586.28|\n",
            "+--------------------+--------------------+----------+-------------+--------------+----------+---------+----------+----------+---------+-------------+----------+------------+------------------+------------------+-----------------+---------------------+------------------+\n",
            "only showing top 20 rows\n",
            "\n"
          ]
        }
      ]
    },
    {
      "cell_type": "code",
      "source": [
        "df_pyspark.show()"
      ],
      "metadata": {
        "colab": {
          "base_uri": "https://localhost:8080/"
        },
        "id": "zLuqtEhqb7f3",
        "outputId": "51700c95-a051-4087-d887-7470b468dcb5"
      },
      "execution_count": null,
      "outputs": [
        {
          "output_type": "stream",
          "name": "stdout",
          "text": [
            "+--------------------+--------------------+----------+-------------+--------------+----------+---------+----------+----------+---------+-------------+----------+------------+\n",
            "|              Region|             Country| Item Type|Sales Channel|Order Priority|Order Date| Order ID|Units Sold|Unit Price|Unit Cost|Total Revenue|Total Cost|Total Profit|\n",
            "+--------------------+--------------------+----------+-------------+--------------+----------+---------+----------+----------+---------+-------------+----------+------------+\n",
            "|       North America|              Canada|Vegetables|       Online|             M| 11/7/2011|185941302|      NULL|    154.06|    90.93|         NULL| 274426.74|   190526.34|\n",
            "|Middle East and N...|               Libya| Baby Food|      Offline|             C|10/31/2016|246222341|      1517|      NULL|   159.42|    387259.76|      NULL|   145419.62|\n",
            "|                Asia|               Japan|    Cereal|      Offline|             C| 4/10/2010|161442649|      3322|     205.7|     NULL|     683335.4| 389039.42|   294295.98|\n",
            "|  Sub-Saharan Africa|                Chad|    Fruits|      Offline|             H| 8/16/2011|645713555|      9845|      9.33|     6.92|     91853.85|      NULL|    23726.45|\n",
            "|              Europe|             Armenia|    Cereal|       Online|             H|11/24/2014|683458888|      9528|     205.7|   117.11|         NULL|      NULL|   844085.52|\n",
            "|  Sub-Saharan Africa|             Eritrea|    Cereal|       Online|             H|  3/4/2015|679414975|      2844|      NULL|   117.11|     585010.8| 333060.84|   251949.96|\n",
            "|              Europe|          Montenegro|   Clothes|      Offline|             M| 5/17/2012|208630645|      7299|      NULL|    35.84|    797634.72| 261596.16|   536038.56|\n",
            "|Australia and Oce...|                Fiji|Vegetables|      Offline|             H|12/24/2013|118598544|      4800|      NULL|    90.93|     739488.0|  436464.0|    303024.0|\n",
            "|              Europe|          Montenegro|    Snacks|      Offline|             M| 2/27/2010|220003211|      2694|    152.58|     NULL|         NULL| 262503.36|   148547.16|\n",
            "|  Sub-Saharan Africa|               Sudan| Cosmetics|       Online|             C|12/20/2015|544485270|      4146|     437.2|   263.33|    1812631.2|1091766.18|   720865.02|\n",
            "|                Asia|            Maldives|    Fruits|      Offline|             L|  1/8/2011|714135205|      7332|      NULL|     6.92|     68407.56|  50737.44|    17670.12|\n",
            "|              Europe|          Montenegro|   Clothes|      Offline|             H| 6/28/2010|448685348|      4820|      NULL|     NULL|         NULL|  172748.8|    353980.8|\n",
            "|       North America|           Greenland| Beverages|       Online|             M| 7/27/2012|414244067|      2880|     47.45|    31.79|     136656.0|   91555.2|     45100.8|\n",
            "|  Sub-Saharan Africa|          Cape Verde|   Clothes|       Online|             C|  9/8/2014|821912801|      NULL|    109.28|    35.84|         NULL|  40033.28|    82032.48|\n",
            "|  Sub-Saharan Africa|             Senegal| Household|      Offline|             L| 8/27/2012|247802054|      8989|    668.27|   502.54|   6007079.03|4517332.06|  1489746.97|\n",
            "|Australia and Oce...|Federated States ...|    Snacks|       Online|             C|  9/3/2012|531023156|       407|    152.58|    97.44|     62100.06|  39658.08|    22441.98|\n",
            "|                Asia|            Mongolia|   Clothes|       Online|             L|12/12/2015|770478332|       515|    109.28|    35.84|      56279.2|      NULL|     37821.6|\n",
            "|Central America a...|             Grenada|    Cereal|       Online|             H|10/28/2012|430390107|       852|     205.7|   117.11|     175256.4|      NULL|    75478.68|\n",
            "|  Sub-Saharan Africa|             Senegal| Beverages|      Offline|             M|10/22/2014|683927953|      NULL|     47.45|     NULL|     395448.3|      NULL|   130510.44|\n",
            "|       North America|           Greenland|    Fruits|      Offline|             M| 1/31/2012|469839179|      4709|      NULL|     6.92|     43934.97|  32586.28|    11348.69|\n",
            "+--------------------+--------------------+----------+-------------+--------------+----------+---------+----------+----------+---------+-------------+----------+------------+\n",
            "only showing top 20 rows\n",
            "\n"
          ]
        }
      ]
    },
    {
      "cell_type": "code",
      "source": [
        "imputed_df = imputer.fit(df_pyspark).transform(df_pyspark)\n",
        "imputed_df.show()\n"
      ],
      "metadata": {
        "colab": {
          "base_uri": "https://localhost:8080/"
        },
        "id": "VAGA0SiGb_xC",
        "outputId": "3b9e4edc-71c3-49d2-82c0-466a711bd5c9"
      },
      "execution_count": null,
      "outputs": [
        {
          "output_type": "stream",
          "name": "stdout",
          "text": [
            "+--------------------+--------------------+----------+-------------+--------------+----------+---------+----------+----------+---------+-------------+----------+------------+------------------+------------------+-----------------+---------------------+------------------+\n",
            "|              Region|             Country| Item Type|Sales Channel|Order Priority|Order Date| Order ID|Units Sold|Unit Price|Unit Cost|Total Revenue|Total Cost|Total Profit|Units Sold_imputed|Unit Price_imputed|Unit Cost_imputed|Total Revenue_imputed|Total Cost_imputed|\n",
            "+--------------------+--------------------+----------+-------------+--------------+----------+---------+----------+----------+---------+-------------+----------+------------+------------------+------------------+-----------------+---------------------+------------------+\n",
            "|       North America|              Canada|Vegetables|       Online|             M| 11/7/2011|185941302|      NULL|    154.06|    90.93|         NULL| 274426.74|   190526.34|              5006|            154.06|            90.93|             785706.0|         274426.74|\n",
            "|Middle East and N...|               Libya| Baby Food|      Offline|             C|10/31/2016|246222341|      1517|      NULL|   159.42|    387259.76|      NULL|   145419.62|              1517|            154.06|           159.42|            387259.76|         448429.71|\n",
            "|                Asia|               Japan|    Cereal|      Offline|             C| 4/10/2010|161442649|      3322|     205.7|     NULL|     683335.4| 389039.42|   294295.98|              3322|             205.7|            97.44|             683335.4|         389039.42|\n",
            "|  Sub-Saharan Africa|                Chad|    Fruits|      Offline|             H| 8/16/2011|645713555|      9845|      9.33|     6.92|     91853.85|      NULL|    23726.45|              9845|              9.33|             6.92|             91853.85|         448429.71|\n",
            "|              Europe|             Armenia|    Cereal|       Online|             H|11/24/2014|683458888|      9528|     205.7|   117.11|         NULL|      NULL|   844085.52|              9528|             205.7|           117.11|             785706.0|         448429.71|\n",
            "|  Sub-Saharan Africa|             Eritrea|    Cereal|       Online|             H|  3/4/2015|679414975|      2844|      NULL|   117.11|     585010.8| 333060.84|   251949.96|              2844|            154.06|           117.11|             585010.8|         333060.84|\n",
            "|              Europe|          Montenegro|   Clothes|      Offline|             M| 5/17/2012|208630645|      7299|      NULL|    35.84|    797634.72| 261596.16|   536038.56|              7299|            154.06|            35.84|            797634.72|         261596.16|\n",
            "|Australia and Oce...|                Fiji|Vegetables|      Offline|             H|12/24/2013|118598544|      4800|      NULL|    90.93|     739488.0|  436464.0|    303024.0|              4800|            154.06|            90.93|             739488.0|          436464.0|\n",
            "|              Europe|          Montenegro|    Snacks|      Offline|             M| 2/27/2010|220003211|      2694|    152.58|     NULL|         NULL| 262503.36|   148547.16|              2694|            152.58|            97.44|             785706.0|         262503.36|\n",
            "|  Sub-Saharan Africa|               Sudan| Cosmetics|       Online|             C|12/20/2015|544485270|      4146|     437.2|   263.33|    1812631.2|1091766.18|   720865.02|              4146|             437.2|           263.33|            1812631.2|        1091766.18|\n",
            "|                Asia|            Maldives|    Fruits|      Offline|             L|  1/8/2011|714135205|      7332|      NULL|     6.92|     68407.56|  50737.44|    17670.12|              7332|            154.06|             6.92|             68407.56|          50737.44|\n",
            "|              Europe|          Montenegro|   Clothes|      Offline|             H| 6/28/2010|448685348|      4820|      NULL|     NULL|         NULL|  172748.8|    353980.8|              4820|            154.06|            97.44|             785706.0|          172748.8|\n",
            "|       North America|           Greenland| Beverages|       Online|             M| 7/27/2012|414244067|      2880|     47.45|    31.79|     136656.0|   91555.2|     45100.8|              2880|             47.45|            31.79|             136656.0|           91555.2|\n",
            "|  Sub-Saharan Africa|          Cape Verde|   Clothes|       Online|             C|  9/8/2014|821912801|      NULL|    109.28|    35.84|         NULL|  40033.28|    82032.48|              5006|            109.28|            35.84|             785706.0|          40033.28|\n",
            "|  Sub-Saharan Africa|             Senegal| Household|      Offline|             L| 8/27/2012|247802054|      8989|    668.27|   502.54|   6007079.03|4517332.06|  1489746.97|              8989|            668.27|           502.54|           6007079.03|        4517332.06|\n",
            "|Australia and Oce...|Federated States ...|    Snacks|       Online|             C|  9/3/2012|531023156|       407|    152.58|    97.44|     62100.06|  39658.08|    22441.98|               407|            152.58|            97.44|             62100.06|          39658.08|\n",
            "|                Asia|            Mongolia|   Clothes|       Online|             L|12/12/2015|770478332|       515|    109.28|    35.84|      56279.2|      NULL|     37821.6|               515|            109.28|            35.84|              56279.2|         448429.71|\n",
            "|Central America a...|             Grenada|    Cereal|       Online|             H|10/28/2012|430390107|       852|     205.7|   117.11|     175256.4|      NULL|    75478.68|               852|             205.7|           117.11|             175256.4|         448429.71|\n",
            "|  Sub-Saharan Africa|             Senegal| Beverages|      Offline|             M|10/22/2014|683927953|      NULL|     47.45|     NULL|     395448.3|      NULL|   130510.44|              5006|             47.45|            97.44|             395448.3|         448429.71|\n",
            "|       North America|           Greenland|    Fruits|      Offline|             M| 1/31/2012|469839179|      4709|      NULL|     6.92|     43934.97|  32586.28|    11348.69|              4709|            154.06|             6.92|             43934.97|          32586.28|\n",
            "+--------------------+--------------------+----------+-------------+--------------+----------+---------+----------+----------+---------+-------------+----------+------------+------------------+------------------+-----------------+---------------------+------------------+\n",
            "only showing top 20 rows\n",
            "\n"
          ]
        }
      ]
    },
    {
      "cell_type": "code",
      "source": [
        "imputed_df.head()"
      ],
      "metadata": {
        "colab": {
          "base_uri": "https://localhost:8080/"
        },
        "id": "sEkIQmrWcCnd",
        "outputId": "fad495d5-3f30-461e-bf85-f1cc5efd28f0"
      },
      "execution_count": null,
      "outputs": [
        {
          "output_type": "execute_result",
          "data": {
            "text/plain": [
              "Row(Region='North America', Country='Canada', Item Type='Vegetables', Sales Channel='Online', Order Priority='M', Order Date='11/7/2011', Order ID=185941302, Units Sold=None, Unit Price=154.06, Unit Cost=90.93, Total Revenue=None, Total Cost=274426.74, Total Profit=190526.34, Units Sold_imputed=5006, Unit Price_imputed=154.06, Unit Cost_imputed=90.93, Total Revenue_imputed=785706.0, Total Cost_imputed=274426.74)"
            ]
          },
          "metadata": {},
          "execution_count": 20
        }
      ]
    },
    {
      "cell_type": "code",
      "source": [
        "# Drop specified columns\n",
        "columns_to_drop = ['Units Sold', 'Unit Price', 'Unit Cost', 'Total Revenue', 'Total Cost']\n",
        "imputed_df = imputed_df.drop(*columns_to_drop)\n",
        "\n",
        "# Show the DataFrame after dropping columns\n",
        "imputed_df.show()"
      ],
      "metadata": {
        "colab": {
          "base_uri": "https://localhost:8080/"
        },
        "id": "9CS9eFXKcFiH",
        "outputId": "e8eed094-df44-400f-cb86-94565524bbfb"
      },
      "execution_count": null,
      "outputs": [
        {
          "output_type": "stream",
          "name": "stdout",
          "text": [
            "+--------------------+--------------------+----------+-------------+--------------+----------+---------+------------+------------------+------------------+-----------------+---------------------+------------------+\n",
            "|              Region|             Country| Item Type|Sales Channel|Order Priority|Order Date| Order ID|Total Profit|Units Sold_imputed|Unit Price_imputed|Unit Cost_imputed|Total Revenue_imputed|Total Cost_imputed|\n",
            "+--------------------+--------------------+----------+-------------+--------------+----------+---------+------------+------------------+------------------+-----------------+---------------------+------------------+\n",
            "|       North America|              Canada|Vegetables|       Online|             M| 11/7/2011|185941302|   190526.34|              5006|            154.06|            90.93|             785706.0|         274426.74|\n",
            "|Middle East and N...|               Libya| Baby Food|      Offline|             C|10/31/2016|246222341|   145419.62|              1517|            154.06|           159.42|            387259.76|         448429.71|\n",
            "|                Asia|               Japan|    Cereal|      Offline|             C| 4/10/2010|161442649|   294295.98|              3322|             205.7|            97.44|             683335.4|         389039.42|\n",
            "|  Sub-Saharan Africa|                Chad|    Fruits|      Offline|             H| 8/16/2011|645713555|    23726.45|              9845|              9.33|             6.92|             91853.85|         448429.71|\n",
            "|              Europe|             Armenia|    Cereal|       Online|             H|11/24/2014|683458888|   844085.52|              9528|             205.7|           117.11|             785706.0|         448429.71|\n",
            "|  Sub-Saharan Africa|             Eritrea|    Cereal|       Online|             H|  3/4/2015|679414975|   251949.96|              2844|            154.06|           117.11|             585010.8|         333060.84|\n",
            "|              Europe|          Montenegro|   Clothes|      Offline|             M| 5/17/2012|208630645|   536038.56|              7299|            154.06|            35.84|            797634.72|         261596.16|\n",
            "|Australia and Oce...|                Fiji|Vegetables|      Offline|             H|12/24/2013|118598544|    303024.0|              4800|            154.06|            90.93|             739488.0|          436464.0|\n",
            "|              Europe|          Montenegro|    Snacks|      Offline|             M| 2/27/2010|220003211|   148547.16|              2694|            152.58|            97.44|             785706.0|         262503.36|\n",
            "|  Sub-Saharan Africa|               Sudan| Cosmetics|       Online|             C|12/20/2015|544485270|   720865.02|              4146|             437.2|           263.33|            1812631.2|        1091766.18|\n",
            "|                Asia|            Maldives|    Fruits|      Offline|             L|  1/8/2011|714135205|    17670.12|              7332|            154.06|             6.92|             68407.56|          50737.44|\n",
            "|              Europe|          Montenegro|   Clothes|      Offline|             H| 6/28/2010|448685348|    353980.8|              4820|            154.06|            97.44|             785706.0|          172748.8|\n",
            "|       North America|           Greenland| Beverages|       Online|             M| 7/27/2012|414244067|     45100.8|              2880|             47.45|            31.79|             136656.0|           91555.2|\n",
            "|  Sub-Saharan Africa|          Cape Verde|   Clothes|       Online|             C|  9/8/2014|821912801|    82032.48|              5006|            109.28|            35.84|             785706.0|          40033.28|\n",
            "|  Sub-Saharan Africa|             Senegal| Household|      Offline|             L| 8/27/2012|247802054|  1489746.97|              8989|            668.27|           502.54|           6007079.03|        4517332.06|\n",
            "|Australia and Oce...|Federated States ...|    Snacks|       Online|             C|  9/3/2012|531023156|    22441.98|               407|            152.58|            97.44|             62100.06|          39658.08|\n",
            "|                Asia|            Mongolia|   Clothes|       Online|             L|12/12/2015|770478332|     37821.6|               515|            109.28|            35.84|              56279.2|         448429.71|\n",
            "|Central America a...|             Grenada|    Cereal|       Online|             H|10/28/2012|430390107|    75478.68|               852|             205.7|           117.11|             175256.4|         448429.71|\n",
            "|  Sub-Saharan Africa|             Senegal| Beverages|      Offline|             M|10/22/2014|683927953|   130510.44|              5006|             47.45|            97.44|             395448.3|         448429.71|\n",
            "|       North America|           Greenland|    Fruits|      Offline|             M| 1/31/2012|469839179|    11348.69|              4709|            154.06|             6.92|             43934.97|          32586.28|\n",
            "+--------------------+--------------------+----------+-------------+--------------+----------+---------+------------+------------------+------------------+-----------------+---------------------+------------------+\n",
            "only showing top 20 rows\n",
            "\n"
          ]
        }
      ]
    },
    {
      "cell_type": "code",
      "source": [
        "imputed_df.write.csv(\"imputed_data.csv\", header=True)"
      ],
      "metadata": {
        "id": "invuiQegcIQb"
      },
      "execution_count": null,
      "outputs": []
    }
  ]
}